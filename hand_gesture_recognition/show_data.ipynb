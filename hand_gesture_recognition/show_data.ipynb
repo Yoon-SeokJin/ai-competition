{
 "cells": [
  {
   "cell_type": "code",
   "execution_count": 1,
   "metadata": {},
   "outputs": [
    {
     "data": {
      "application/vnd.jupyter.widget-view+json": {
       "model_id": "6ecb8842ffa34e9c9771fa6788a863ed",
       "version_major": 2,
       "version_minor": 0
      },
      "text/plain": [
       "interactive(children=(IntSlider(value=14, description='k', max=29), Output()), _dom_classes=('widget-interact'…"
      ]
     },
     "metadata": {},
     "output_type": "display_data"
    }
   ],
   "source": [
    "%matplotlib inline\n",
    "import matplotlib.pyplot as plt\n",
    "from ipywidgets import interact\n",
    "import cv2 as cv\n",
    "import pandas as pd\n",
    "def read_video(path):\n",
    "    video = []\n",
    "    cap = cv.VideoCapture(path)\n",
    "    while True:\n",
    "        ret, image = cap.read()\n",
    "        if not ret:\n",
    "            break\n",
    "        image = cv.cvtColor(image, cv.COLOR_BGR2RGB)\n",
    "        video.append(image)\n",
    "\n",
    "    return video\n",
    "\n",
    "index = 2\n",
    "df = pd.read_csv('train.csv')\n",
    "path = df.loc[index, 'path']\n",
    "video = read_video(path)\n",
    "label = df.loc[index, 'label']\n",
    "\n",
    "@interact(k=(0, 29))\n",
    "def f(k):\n",
    "    plt.title(label)\n",
    "    plt.imshow(video[k])"
   ]
  }
 ],
 "metadata": {
  "kernelspec": {
   "display_name": "Python 3.9.13 ('.venv': venv)",
   "language": "python",
   "name": "python3"
  },
  "language_info": {
   "codemirror_mode": {
    "name": "ipython",
    "version": 3
   },
   "file_extension": ".py",
   "mimetype": "text/x-python",
   "name": "python",
   "nbconvert_exporter": "python",
   "pygments_lexer": "ipython3",
   "version": "3.9.13"
  },
  "orig_nbformat": 4,
  "vscode": {
   "interpreter": {
    "hash": "ce3ef41620bba9e135c31f1277dec1cc9aa635786fe4aa1cf2e65f7247b6fe51"
   }
  }
 },
 "nbformat": 4,
 "nbformat_minor": 2
}
